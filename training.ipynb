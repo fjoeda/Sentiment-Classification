{
 "nbformat": 4,
 "nbformat_minor": 2,
 "metadata": {
  "language_info": {
   "name": "python",
   "codemirror_mode": {
    "name": "ipython",
    "version": 3
   },
   "version": "3.6.8-final"
  },
  "orig_nbformat": 2,
  "file_extension": ".py",
  "mimetype": "text/x-python",
  "name": "python",
  "npconvert_exporter": "python",
  "pygments_lexer": "ipython3",
  "version": 3,
  "kernelspec": {
   "name": "b53e71a0-d3cf-4076-af14-0165697632d0",
   "display_name": "'Python Interactive'"
  }
 },
 "cells": [
  {
   "cell_type": "code",
   "execution_count": null,
   "metadata": {},
   "outputs": [],
   "source": [
    "# import data\n",
    "import pandas as pd\n",
    "import numpy as np \n",
    "\n",
    "text_data = pd.read_csv('text/amazon_cells_labelled.txt',sep='\\t',header=None)\n",
    "text_data.head()"
   ]
  },
  {
   "cell_type": "code",
   "execution_count": null,
   "metadata": {},
   "outputs": [],
   "source": [
    "#separate into data and labels\n",
    "texts = text_data[0].values.tolist()\n",
    "labels = text_data[1].values.tolist()"
   ]
  },
  {
   "cell_type": "code",
   "execution_count": null,
   "metadata": {},
   "outputs": [],
   "source": [
    "#import preprocessing libary\n",
    "import nltk\n",
    "from nltk.corpus import stopwords\n",
    "from nltk.tokenize import word_tokenize\n",
    "\n",
    "nltk.download('stopwords')\n",
    "stopword = set(stopwords.words('english'))\n",
    "punct_tokenizer = nltk.RegexpTokenizer(r'\\w+')"
   ]
  },
  {
   "cell_type": "code",
   "execution_count": null,
   "metadata": {},
   "outputs": [],
   "source": [
    "#cleaning data\n",
    "filtered_texts = []\n",
    "\n",
    "for text in texts:\n",
    "    no_punct = punct_tokenizer.tokenize(text.lower())\n",
    "    text = ' '.join(no_punct)\n",
    "    tokens = word_tokenize(text)\n",
    "    filtered_text = [w for w in tokens if not w in stopword]\n",
    "    filtered_texts.append(' '.join(filtered_text))\n",
    "\n",
    "filtered_texts[:10]"
   ]
  },
  {
   "cell_type": "code",
   "execution_count": null,
   "metadata": {},
   "outputs": [],
   "source": [
    "#splitting data\n",
    "from sklearn.model_selection import train_test_split\n",
    "X_train,X_test,y_train,y_test = train_test_split(filtered_texts,labels,test_size = 0.2)"
   ]
  },
  {
   "cell_type": "code",
   "execution_count": null,
   "metadata": {},
   "outputs": [],
   "source": [
    "#train using pipeline\n",
    "from sklearn.pipeline import Pipeline\n",
    "from sklearn.feature_extraction.text import CountVectorizer\n",
    "from sklearn.naive_bayes import MultinomialNB\n",
    "\n",
    "text_clf = Pipeline([\n",
    "    ('vect',CountVectorizer()),    \n",
    "    ('clf',MultinomialNB())\n",
    "])\n",
    "\n",
    "text_clf.fit(X_train,y_train)\n",
    "text_clf.score(X_test,y_test)"
   ]
  },
  {
   "cell_type": "code",
   "execution_count": null,
   "metadata": {},
   "outputs": [],
   "source": [
    "from sklearn.ensemble import RandomForestClassifier\n",
    "\n",
    "text_clf = Pipeline([\n",
    "    ('vect',CountVectorizer()),\n",
    "    ('clf',RandomForestClassifier())\n",
    "])\n",
    "\n",
    "text_clf.fit(X_train,y_train)\n",
    "text_clf.score(X_test,y_test)"
   ]
  },
  {
   "cell_type": "code",
   "execution_count": null,
   "metadata": {},
   "outputs": [],
   "source": [
    "from sklearn.svm import LinearSVC\n",
    "\n",
    "text_clf = Pipeline([\n",
    "    ('vect',CountVectorizer()),\n",
    "    ('clf',LinearSVC())\n",
    "])\n",
    "\n",
    "text_clf.fit(X_train,y_train)\n",
    "text_clf.score(X_test,y_test)"
   ]
  },
  {
   "cell_type": "code",
   "execution_count": null,
   "metadata": {},
   "outputs": [],
   "source": [
    "#try the prediction\n",
    "sample_text = 'the device was broken when i buy it'\n",
    "text_clf.predict([sample_text])"
   ]
  },
  {
   "cell_type": "code",
   "execution_count": null,
   "metadata": {},
   "outputs": [],
   "source": [
    "#deploy model\n",
    "import pickle\n",
    "\n",
    "text_clf = Pipeline([\n",
    "    ('vect',CountVectorizer()),\n",
    "    ('clf',RandomForestClassifier())\n",
    "])\n",
    "\n",
    "text_clf.fit(filtered_texts,labels)\n",
    "\n",
    "pickle.dump(text_clf,open('sentiment.pk','wb'))\n"
   ]
  },
  {
   "cell_type": "code",
   "execution_count": null,
   "metadata": {},
   "outputs": [],
   "source": []
  }
 ]
}